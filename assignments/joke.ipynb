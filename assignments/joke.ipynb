{
 "cells": [
  {
   "cell_type": "code",
   "execution_count": 14,
   "id": "01f85a87",
   "metadata": {},
   "outputs": [
    {
     "name": "stdout",
     "output_type": "stream",
     "text": [
      "GROQ API Key loaded successfully.\n"
     ]
    }
   ],
   "source": [
    "# 2. Setup Environment Variables\n",
    "# Create a .env file in your project directory and add your GROQ_API_KEY\n",
    "# For example: GROQ_API_KEY='your-api-key-here'\n",
    "from dotenv import load_dotenv\n",
    "import os\n",
    "\n",
    "load_dotenv()\n",
    "\n",
    "# Check if the key is loaded correctly\n",
    "groq_api_key = os.getenv(\"GROQ_API_KEY\")\n",
    "if not groq_api_key:\n",
    "    print(\"GROQ_API_KEY not found. Please make sure it's set in your .env file.\")\n",
    "else:\n",
    "    os.environ[\"GROQ_API_KEY\"] = groq_api_key\n",
    "    print(\"GROQ API Key loaded successfully.\")\n"
   ]
  },
  {
   "cell_type": "code",
   "execution_count": 15,
   "id": "3f11f2b9",
   "metadata": {},
   "outputs": [],
   "source": [
    "# 3. Import Libraries and Define the LLM\n",
    "from typing import TypedDict, Annotated, List\n",
    "from langchain_core.messages import BaseMessage, SystemMessage, HumanMessage\n",
    "from langchain_groq import ChatGroq\n",
    "from langgraph.graph import StateGraph, END\n",
    "from IPython.display import Image, display\n",
    "\n",
    "# Initialize the language model\n",
    "llm = ChatGroq(model=\"llama3-70b-8192\")\n"
   ]
  },
  {
   "cell_type": "code",
   "execution_count": 16,
   "id": "12680b6d",
   "metadata": {},
   "outputs": [],
   "source": [
    "# 4. Define the State for the Graph\n",
    "# The state will track the messages exchanged and the current joke.\n",
    "class AgentState(TypedDict):\n",
    "    messages: Annotated[list, lambda x, y: x + y]\n",
    "    joke: str\n"
   ]
  },
  {
   "cell_type": "code",
   "execution_count": 17,
   "id": "e2af7ef6",
   "metadata": {},
   "outputs": [],
   "source": [
    "# 5. Define the Nodes for the Graph\n",
    "\n",
    "def llm_node(state: AgentState):\n",
    "    \"\"\"This node invokes the LLM to generate a joke based on the current message history.\"\"\"\n",
    "    print(\"---🤖 LLM Node: Generating a new joke...---\")\n",
    "    response = llm.invoke(state['messages'])\n",
    "    return {\"joke\": response.content}\n",
    "\n",
    "def human_in_the_loop_node(state: AgentState):\n",
    "    \"\"\"This node presents the joke to the human for approval and feedback.\"\"\"\n",
    "    print(\"---🤔 Human in the Loop Node: Awaiting your feedback...---\")\n",
    "    current_joke = state.get(\"joke\", \"\")\n",
    "    print(f\"\\nHere's a joke for you:\\n\\n{current_joke}\\n\")\n",
    "    \n",
    "    # Get feedback from the user\n",
    "    feedback = input(\"Type 'approve' to accept, or provide feedback to get a new joke (e.g., 'make it about dogs instead'): \")\n",
    "        \n",
    "    # If the user approves, we continue. Otherwise, we use the feedback to try again.\n",
    "    if feedback.lower() == 'approve':\n",
    "        print(\"---👍 Joke Approved! ---\")\n",
    "        return {\"messages\": []}\n",
    "    else:\n",
    "        print(\"---👎 Joke Rejected. Using your feedback to improve. ---\")\n",
    "        rejection_message = HumanMessage(content=feedback)\n",
    "        return {\"messages\": [rejection_message], \"joke\": \"\"} # Clear joke on rejection\n",
    "        \n",
    "\n",
    "def print_joke_node(state: AgentState):\n",
    "    \"\"\"This node prints the final, approved joke.\"\"\"\n",
    "    print(\"---🎉 Print Joke Node: Here is the final approved joke!---\")\n",
    "    final_joke = state.get(\"joke\", \"\")\n",
    "    print(f\"\\n😂 Here's your approved joke:\\n\\n{final_joke}\\n\")\n",
    "    return {}\n"
   ]
  },
  {
   "cell_type": "code",
   "execution_count": 18,
   "id": "387a8ace",
   "metadata": {},
   "outputs": [],
   "source": [
    "# 6. Define the Conditional Edge Logic\n",
    "\n",
    "def should_continue(state: AgentState):\n",
    "    \"\"\"Determines the next step based on whether a joke has been approved.\"\"\"\n",
    "    # If the 'joke' field is empty, it means it was rejected, so we go back to the LLM.\n",
    "    if state.get('joke', '') == \"\":\n",
    "        print(\"---🚦 Conditional Edge: Joke rejected. Returning to LLM.---\\n\")\n",
    "        return \"llm_node\"\n",
    "    else:\n",
    "        print(\"---🚦 Conditional Edge: Joke approved. Printing joke.---\\n\")\n",
    "        return \"print_joke_node\"\n"
   ]
  },
  {
   "cell_type": "code",
   "execution_count": 19,
   "id": "0b9c33b3",
   "metadata": {},
   "outputs": [
    {
     "name": "stdout",
     "output_type": "stream",
     "text": [
      "Graph compiled successfully!\n"
     ]
    }
   ],
   "source": [
    "# 7. Build the Graph\n",
    "\n",
    "workflow = StateGraph(AgentState)\n",
    "\n",
    "# Add the nodes\n",
    "workflow.add_node(\"llm_node\", llm_node)\n",
    "workflow.add_node(\"human_in_the_loop_node\", human_in_the_loop_node)\n",
    "workflow.add_node(\"print_joke_node\", print_joke_node)\n",
    "\n",
    "# Set the entry point\n",
    "workflow.set_entry_point(\"llm_node\")\n",
    "\n",
    "# Add the edges\n",
    "workflow.add_edge(\"llm_node\", \"human_in_the_loop_node\")\n",
    "workflow.add_conditional_edges(\n",
    "    \"human_in_the_loop_node\",\n",
    "    should_continue,\n",
    "    {\n",
    "        \"llm_node\": \"llm_node\",\n",
    "        \"print_joke_node\": \"print_joke_node\"\n",
    "    }\n",
    ")\n",
    "workflow.add_edge(\"print_joke_node\", END)\n",
    "\n",
    "# Compile the graph\n",
    "app = workflow.compile()\n",
    "\n",
    "print(\"Graph compiled successfully!\")\n"
   ]
  },
  {
   "cell_type": "code",
   "execution_count": 20,
   "id": "91276525",
   "metadata": {},
   "outputs": [
    {
     "data": {
      "image/png": "[encoded data removed]",
      "text/plain": [
       "<IPython.core.display.Image object>"
      ]
     },
     "metadata": {},
     "output_type": "display_data"
    }
   ],
   "source": [
    "# 8. Visualize the Graph\n",
    "try:\n",
    "    # Draw the graph to verify its structure\n",
    "    display(Image(app.get_graph().draw_mermaid_png()))\n",
    "except Exception as e:\n",
    "    print(f\"Could not display graph: {e}. Make sure graphviz is installed.\")\n"
   ]
  },
  {
   "cell_type": "code",
   "execution_count": 24,
   "id": "3a2f147b",
   "metadata": {},
   "outputs": [
    {
     "name": "stdout",
     "output_type": "stream",
     "text": [
      "🚀 Starting the interactive joke generation flow...\n",
      "\n",
      "---🤖 LLM Node: Generating a new joke...---\n",
      "----------------------------------------\n",
      "{'llm_node': {'joke': \"What a fantastic gig! Here's my attempt:\\n\\nOriginal joke: Why did the scarecrow win an award? Because he was outstanding in his field!\\n\\nIndianized version: Why did the scarecrow in Punjab win an award? Because he was outstanding in his basmati field... and also got a prize for having the most turban-tastic hairdo!\\n\\nNext one, please!\"}}\n",
      "---🤔 Human in the Loop Node: Awaiting your feedback...---\n",
      "\n",
      "Here's a joke for you:\n",
      "\n",
      "What a fantastic gig! Here's my attempt:\n",
      "\n",
      "Original joke: Why did the scarecrow win an award? Because he was outstanding in his field!\n",
      "\n",
      "Indianized version: Why did the scarecrow in Punjab win an award? Because he was outstanding in his basmati field... and also got a prize for having the most turban-tastic hairdo!\n",
      "\n",
      "Next one, please!\n",
      "\n",
      "---👍 Joke Approved! ---\n",
      "---🚦 Conditional Edge: Joke approved. Printing joke.---\n",
      "\n",
      "----------------------------------------\n",
      "{'human_in_the_loop_node': {'messages': []}}\n",
      "---🎉 Print Joke Node: Here is the final approved joke!---\n",
      "\n",
      "😂 Here's your approved joke:\n",
      "\n",
      "What a fantastic gig! Here's my attempt:\n",
      "\n",
      "Original joke: Why did the scarecrow win an award? Because he was outstanding in his field!\n",
      "\n",
      "Indianized version: Why did the scarecrow in Punjab win an award? Because he was outstanding in his basmati field... and also got a prize for having the most turban-tastic hairdo!\n",
      "\n",
      "Next one, please!\n",
      "\n",
      "----------------------------------------\n",
      "{'print_joke_node': None}\n",
      "\n",
      "🏁 Flow finished.\n"
     ]
    }
   ],
   "source": [
    "# 9. Run the Interactive Flow\n",
    "print(\"🚀 Starting the interactive joke generation flow...\\n\")\n",
    "\n",
    "# Get the topic from the user\n",
    "topic = input(\"Please enter a topic for the joke (e.g., 'computers', 'cats', 'space'): \")\n",
    "\n",
    "initial_state = {\n",
    "    \"messages\": [SystemMessage(content=f\"You are a hilarious comedian. Your job is to generate a short, one-liner joke about {topic}.\")],\n",
    "    \"joke\": \"\"\n",
    "}\n",
    "\n",
    "# The for loop will stream the output of each step\n",
    "for event in app.stream(initial_state):\n",
    "    print(\"-\" * 40)\n",
    "    print(event)\n",
    "\n",
    "print(\"\\n🏁 Flow finished.\")\n"
   ]
  },
  {
   "cell_type": "code",
   "execution_count": null,
   "id": "2135f4c5",
   "metadata": {},
   "outputs": [],
   "source": []
  }
 ],
 "metadata": {
  "kernelspec": {
   "display_name": "Python 3",
   "language": "python",
   "name": "python3"
  },
  "language_info": {
   "codemirror_mode": {
    "name": "ipython",
    "version": 3
   },
   "file_extension": ".py",
   "mimetype": "text/x-python",
   "name": "python",
   "nbconvert_exporter": "python",
   "pygments_lexer": "ipython3",
   "version": "3.12.0"
  }
 },
 "nbformat": 4,
 "nbformat_minor": 5
}
